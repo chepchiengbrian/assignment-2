{
  "nbformat": 4,
  "nbformat_minor": 0,
  "metadata": {
    "colab": {
      "provenance": [],
      "authorship_tag": "ABX9TyPL5Uj6eJmXfRoIKpaIXhNs",
      "include_colab_link": true
    },
    "kernelspec": {
      "name": "python3",
      "display_name": "Python 3"
    },
    "language_info": {
      "name": "python"
    }
  },
  "cells": [
    {
      "cell_type": "markdown",
      "metadata": {
        "id": "view-in-github",
        "colab_type": "text"
      },
      "source": [
        "<a href=\"https://colab.research.google.com/github/chepchiengbrian/assignment-2/blob/main/Untitled0.ipynb\" target=\"_parent\"><img src=\"https://colab.research.google.com/assets/colab-badge.svg\" alt=\"Open In Colab\"/></a>"
      ]
    },
    {
      "cell_type": "markdown",
      "source": [],
      "metadata": {
        "id": "aRa-Vox6PXXt"
      }
    },
    {
      "cell_type": "markdown",
      "source": [
        "**ENG-219-046/2023** <BR>\n",
        "# QUESTION 1\n",
        "FUNCTION\n",
        "\n",
        "---\n",
        "**Pseudo code**\n",
        "1. create a function `get_expected_cost()` that has two arguments `beds and baths`\n",
        "2. The function should return the exspected cost of a house\n",
        "3. create a variable `value` to calculate the expected total prise of the house.\n",
        "4. create a variable `total_house_price` that calls `get_exspected_cost`\n",
        "5. print the total house price\n"
      ],
      "metadata": {
        "id": "L74qJWUNOjOM"
      }
    },
    {
      "cell_type": "code",
      "source": [
        "def get_expected_cost(beds, baths):\n",
        "    value = 80000 + ((beds)*30000) + (baths*10000)\n",
        "    return value\n",
        "total_house_price = get_expected_cost(2,1)\n",
        "print(f\"The total house price is ${total_house_price}\")"
      ],
      "metadata": {
        "colab": {
          "base_uri": "https://localhost:8080/"
        },
        "id": "G32Js7XGRRV4",
        "outputId": "0d76c102-a398-4af6-d5f3-a80aeccf276a"
      },
      "execution_count": null,
      "outputs": [
        {
          "output_type": "stream",
          "name": "stdout",
          "text": [
            "The total house price is $150000\n"
          ]
        }
      ]
    },
    {
      "cell_type": "markdown",
      "source": [
        "#Question 2\n",
        "\n",
        "---\n",
        "**psuedo code**\n",
        "1. create a function `get_expected_cost()` that has two arguments beds and baths\n",
        "2. The function should return the exspected cost of a house\n",
        "3. create a variable `value` to calculate the expected total prise of the house.\n",
        "4. create four variable `option 1` `option 2` `option 3` `option 4` that calls the `get_expected_cost`\n",
        "5. print the four variable above.\n",
        "\n"
      ],
      "metadata": {
        "id": "gP_jVcavVRin"
      }
    },
    {
      "cell_type": "code",
      "source": [
        "def get_expected_cost(beds, baths):\n",
        "    value = 80000 + ((beds)*30000) + (baths*10000)\n",
        "    return value\n",
        "option_one = get_expected_cost(2,3)\n",
        "option_two = get_expected_cost(3,2)\n",
        "option_three = get_expected_cost(3,3)\n",
        "option_four = get_expected_cost(3,4)\n",
        "\n",
        "print(option_one)\n",
        "print(option_two)\n",
        "print(option_three)\n",
        "print(option_four)\n"
      ],
      "metadata": {
        "colab": {
          "base_uri": "https://localhost:8080/"
        },
        "id": "5oop_9xoZlp6",
        "outputId": "a80af075-1f50-40fa-9e58-29822ab1404d"
      },
      "execution_count": null,
      "outputs": [
        {
          "output_type": "stream",
          "name": "stdout",
          "text": [
            "170000\n",
            "190000\n",
            "200000\n",
            "210000\n"
          ]
        }
      ]
    },
    {
      "cell_type": "markdown",
      "source": [
        "# Question 3\n",
        "\n",
        "---\n",
        "**psuedo code**\n",
        "1. define a function `get_cost()` to calculate the cost of painting a house.\n",
        "2. create a varible `cost` that calculate the total cost per gallon"
      ],
      "metadata": {
        "id": "d_ixQeLqaBkF"
      }
    },
    {
      "cell_type": "code",
      "source": [
        "def get_cost(sqft_walls, sqft_ceiling, sqft_per_gallon, cost_per_gallon):\n",
        "    cost = (((sqft_walls + sqft_ceiling)/sqft_per_gallon)*cost_per_gallon)\n",
        "    return cost\n",
        "house = get_cost(432,144,400,18)\n",
        "print(f\"The total cost of painting the house is ${house}\")"
      ],
      "metadata": {
        "colab": {
          "base_uri": "https://localhost:8080/"
        },
        "id": "Neo2lx9xf6g5",
        "outputId": "bda9a736-05a2-4e3b-8d7b-d88b17802357"
      },
      "execution_count": null,
      "outputs": [
        {
          "output_type": "stream",
          "name": "stdout",
          "text": [
            "The total cost of painting the house is $25.919999999999998\n"
          ]
        }
      ]
    },
    {
      "cell_type": "markdown",
      "source": [
        "# Question 3\n",
        "\n",
        "---\n",
        "**psuedo code**\n",
        "1. define a function `get_cost()` to calculate the cost of applying one coat of paint to a room with.\n",
        "2.\n",
        "\n"
      ],
      "metadata": {
        "id": "rM9FV7WFhWGZ"
      }
    }
  ]
}